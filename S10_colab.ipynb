{
  "nbformat": 4,
  "nbformat_minor": 0,
  "metadata": {
    "colab": {
      "provenance": [],
      "gpuType": "T4",
      "authorship_tag": "ABX9TyOcqq2KrEQ1Zq3BiHmz2dqt",
      "include_colab_link": true
    },
    "kernelspec": {
      "name": "python3",
      "display_name": "Python 3"
    },
    "language_info": {
      "name": "python"
    },
    "accelerator": "GPU",
    "widgets": {
      "application/vnd.jupyter.widget-state+json": {
        "9adf2341827d4b528b9c5f71465c1abb": {
          "model_module": "@jupyter-widgets/controls",
          "model_name": "HBoxModel",
          "model_module_version": "1.5.0",
          "state": {
            "_dom_classes": [],
            "_model_module": "@jupyter-widgets/controls",
            "_model_module_version": "1.5.0",
            "_model_name": "HBoxModel",
            "_view_count": null,
            "_view_module": "@jupyter-widgets/controls",
            "_view_module_version": "1.5.0",
            "_view_name": "HBoxView",
            "box_style": "",
            "children": [
              "IPY_MODEL_cc44b3fe284a4861899cd30c22652e28",
              "IPY_MODEL_9e143059925448ba801271b41e22b7d7",
              "IPY_MODEL_e40b9899ba5d446e904e02bd98dc11a1"
            ],
            "layout": "IPY_MODEL_578bd37006eb44a48cfcee1864613283"
          }
        },
        "cc44b3fe284a4861899cd30c22652e28": {
          "model_module": "@jupyter-widgets/controls",
          "model_name": "HTMLModel",
          "model_module_version": "1.5.0",
          "state": {
            "_dom_classes": [],
            "_model_module": "@jupyter-widgets/controls",
            "_model_module_version": "1.5.0",
            "_model_name": "HTMLModel",
            "_view_count": null,
            "_view_module": "@jupyter-widgets/controls",
            "_view_module_version": "1.5.0",
            "_view_name": "HTMLView",
            "description": "",
            "description_tooltip": null,
            "layout": "IPY_MODEL_68d2841915cc4deea4bc5e0a2cf6c21d",
            "placeholder": "​",
            "style": "IPY_MODEL_d43889d7940c4db5b2b30168106535bf",
            "value": " 74%"
          }
        },
        "9e143059925448ba801271b41e22b7d7": {
          "model_module": "@jupyter-widgets/controls",
          "model_name": "FloatProgressModel",
          "model_module_version": "1.5.0",
          "state": {
            "_dom_classes": [],
            "_model_module": "@jupyter-widgets/controls",
            "_model_module_version": "1.5.0",
            "_model_name": "FloatProgressModel",
            "_view_count": null,
            "_view_module": "@jupyter-widgets/controls",
            "_view_module_version": "1.5.0",
            "_view_name": "ProgressView",
            "bar_style": "danger",
            "description": "",
            "description_tooltip": null,
            "layout": "IPY_MODEL_d97a7e4a52b1440db99ef4782a3b4a58",
            "max": 200,
            "min": 0,
            "orientation": "horizontal",
            "style": "IPY_MODEL_d63dd753a4f742e68bff4f2121b881f2",
            "value": 149
          }
        },
        "e40b9899ba5d446e904e02bd98dc11a1": {
          "model_module": "@jupyter-widgets/controls",
          "model_name": "HTMLModel",
          "model_module_version": "1.5.0",
          "state": {
            "_dom_classes": [],
            "_model_module": "@jupyter-widgets/controls",
            "_model_module_version": "1.5.0",
            "_model_name": "HTMLModel",
            "_view_count": null,
            "_view_module": "@jupyter-widgets/controls",
            "_view_module_version": "1.5.0",
            "_view_name": "HTMLView",
            "description": "",
            "description_tooltip": null,
            "layout": "IPY_MODEL_330a755b56de4e8eaa262678461ebc30",
            "placeholder": "​",
            "style": "IPY_MODEL_137bd1b035a648a884be1323aa370df7",
            "value": " 149/200 [00:53&lt;00:19,  2.57it/s]"
          }
        },
        "578bd37006eb44a48cfcee1864613283": {
          "model_module": "@jupyter-widgets/base",
          "model_name": "LayoutModel",
          "model_module_version": "1.2.0",
          "state": {
            "_model_module": "@jupyter-widgets/base",
            "_model_module_version": "1.2.0",
            "_model_name": "LayoutModel",
            "_view_count": null,
            "_view_module": "@jupyter-widgets/base",
            "_view_module_version": "1.2.0",
            "_view_name": "LayoutView",
            "align_content": null,
            "align_items": null,
            "align_self": null,
            "border": null,
            "bottom": null,
            "display": null,
            "flex": null,
            "flex_flow": null,
            "grid_area": null,
            "grid_auto_columns": null,
            "grid_auto_flow": null,
            "grid_auto_rows": null,
            "grid_column": null,
            "grid_gap": null,
            "grid_row": null,
            "grid_template_areas": null,
            "grid_template_columns": null,
            "grid_template_rows": null,
            "height": null,
            "justify_content": null,
            "justify_items": null,
            "left": null,
            "margin": null,
            "max_height": null,
            "max_width": null,
            "min_height": null,
            "min_width": null,
            "object_fit": null,
            "object_position": null,
            "order": null,
            "overflow": null,
            "overflow_x": null,
            "overflow_y": null,
            "padding": null,
            "right": null,
            "top": null,
            "visibility": null,
            "width": null
          }
        },
        "68d2841915cc4deea4bc5e0a2cf6c21d": {
          "model_module": "@jupyter-widgets/base",
          "model_name": "LayoutModel",
          "model_module_version": "1.2.0",
          "state": {
            "_model_module": "@jupyter-widgets/base",
            "_model_module_version": "1.2.0",
            "_model_name": "LayoutModel",
            "_view_count": null,
            "_view_module": "@jupyter-widgets/base",
            "_view_module_version": "1.2.0",
            "_view_name": "LayoutView",
            "align_content": null,
            "align_items": null,
            "align_self": null,
            "border": null,
            "bottom": null,
            "display": null,
            "flex": null,
            "flex_flow": null,
            "grid_area": null,
            "grid_auto_columns": null,
            "grid_auto_flow": null,
            "grid_auto_rows": null,
            "grid_column": null,
            "grid_gap": null,
            "grid_row": null,
            "grid_template_areas": null,
            "grid_template_columns": null,
            "grid_template_rows": null,
            "height": null,
            "justify_content": null,
            "justify_items": null,
            "left": null,
            "margin": null,
            "max_height": null,
            "max_width": null,
            "min_height": null,
            "min_width": null,
            "object_fit": null,
            "object_position": null,
            "order": null,
            "overflow": null,
            "overflow_x": null,
            "overflow_y": null,
            "padding": null,
            "right": null,
            "top": null,
            "visibility": null,
            "width": null
          }
        },
        "d43889d7940c4db5b2b30168106535bf": {
          "model_module": "@jupyter-widgets/controls",
          "model_name": "DescriptionStyleModel",
          "model_module_version": "1.5.0",
          "state": {
            "_model_module": "@jupyter-widgets/controls",
            "_model_module_version": "1.5.0",
            "_model_name": "DescriptionStyleModel",
            "_view_count": null,
            "_view_module": "@jupyter-widgets/base",
            "_view_module_version": "1.2.0",
            "_view_name": "StyleView",
            "description_width": ""
          }
        },
        "d97a7e4a52b1440db99ef4782a3b4a58": {
          "model_module": "@jupyter-widgets/base",
          "model_name": "LayoutModel",
          "model_module_version": "1.2.0",
          "state": {
            "_model_module": "@jupyter-widgets/base",
            "_model_module_version": "1.2.0",
            "_model_name": "LayoutModel",
            "_view_count": null,
            "_view_module": "@jupyter-widgets/base",
            "_view_module_version": "1.2.0",
            "_view_name": "LayoutView",
            "align_content": null,
            "align_items": null,
            "align_self": null,
            "border": null,
            "bottom": null,
            "display": null,
            "flex": null,
            "flex_flow": null,
            "grid_area": null,
            "grid_auto_columns": null,
            "grid_auto_flow": null,
            "grid_auto_rows": null,
            "grid_column": null,
            "grid_gap": null,
            "grid_row": null,
            "grid_template_areas": null,
            "grid_template_columns": null,
            "grid_template_rows": null,
            "height": null,
            "justify_content": null,
            "justify_items": null,
            "left": null,
            "margin": null,
            "max_height": null,
            "max_width": null,
            "min_height": null,
            "min_width": null,
            "object_fit": null,
            "object_position": null,
            "order": null,
            "overflow": null,
            "overflow_x": null,
            "overflow_y": null,
            "padding": null,
            "right": null,
            "top": null,
            "visibility": null,
            "width": null
          }
        },
        "d63dd753a4f742e68bff4f2121b881f2": {
          "model_module": "@jupyter-widgets/controls",
          "model_name": "ProgressStyleModel",
          "model_module_version": "1.5.0",
          "state": {
            "_model_module": "@jupyter-widgets/controls",
            "_model_module_version": "1.5.0",
            "_model_name": "ProgressStyleModel",
            "_view_count": null,
            "_view_module": "@jupyter-widgets/base",
            "_view_module_version": "1.2.0",
            "_view_name": "StyleView",
            "bar_color": null,
            "description_width": ""
          }
        },
        "330a755b56de4e8eaa262678461ebc30": {
          "model_module": "@jupyter-widgets/base",
          "model_name": "LayoutModel",
          "model_module_version": "1.2.0",
          "state": {
            "_model_module": "@jupyter-widgets/base",
            "_model_module_version": "1.2.0",
            "_model_name": "LayoutModel",
            "_view_count": null,
            "_view_module": "@jupyter-widgets/base",
            "_view_module_version": "1.2.0",
            "_view_name": "LayoutView",
            "align_content": null,
            "align_items": null,
            "align_self": null,
            "border": null,
            "bottom": null,
            "display": null,
            "flex": null,
            "flex_flow": null,
            "grid_area": null,
            "grid_auto_columns": null,
            "grid_auto_flow": null,
            "grid_auto_rows": null,
            "grid_column": null,
            "grid_gap": null,
            "grid_row": null,
            "grid_template_areas": null,
            "grid_template_columns": null,
            "grid_template_rows": null,
            "height": null,
            "justify_content": null,
            "justify_items": null,
            "left": null,
            "margin": null,
            "max_height": null,
            "max_width": null,
            "min_height": null,
            "min_width": null,
            "object_fit": null,
            "object_position": null,
            "order": null,
            "overflow": null,
            "overflow_x": null,
            "overflow_y": null,
            "padding": null,
            "right": null,
            "top": null,
            "visibility": null,
            "width": null
          }
        },
        "137bd1b035a648a884be1323aa370df7": {
          "model_module": "@jupyter-widgets/controls",
          "model_name": "DescriptionStyleModel",
          "model_module_version": "1.5.0",
          "state": {
            "_model_module": "@jupyter-widgets/controls",
            "_model_module_version": "1.5.0",
            "_model_name": "DescriptionStyleModel",
            "_view_count": null,
            "_view_module": "@jupyter-widgets/base",
            "_view_module_version": "1.2.0",
            "_view_name": "StyleView",
            "description_width": ""
          }
        }
      }
    }
  },
  "cells": [
    {
      "cell_type": "markdown",
      "metadata": {
        "id": "view-in-github",
        "colab_type": "text"
      },
      "source": [
        "<a href=\"https://colab.research.google.com/github/RajidiSahithi/Session_10/blob/main/S10_colab.ipynb\" target=\"_parent\"><img src=\"https://colab.research.google.com/assets/colab-badge.svg\" alt=\"Open In Colab\"/></a>"
      ]
    },
    {
      "cell_type": "code",
      "execution_count": 1,
      "metadata": {
        "id": "FvuR4TAsfsBn",
        "colab": {
          "base_uri": "https://localhost:8080/"
        },
        "outputId": "39a76023-ea27-4c62-97af-4d30c5986fc2"
      },
      "outputs": [
        {
          "output_type": "stream",
          "name": "stdout",
          "text": [
            "Mounted at /content/drive/\n",
            "/content/drive/MyDrive/ERA_S10_COLAB\n"
          ]
        }
      ],
      "source": [
        "from google.colab import drive\n",
        "drive.mount('/content/drive/')\n",
        "%cd /content/drive/MyDrive/ERA_S10_COLAB\n"
      ]
    },
    {
      "cell_type": "code",
      "source": [
        "%pip install albumentations==0.4.6\n",
        "%pip install  torch_lr_finder\n",
        "%pip install torch\n"
      ],
      "metadata": {
        "colab": {
          "base_uri": "https://localhost:8080/"
        },
        "id": "OfHNTnD1kOgB",
        "outputId": "e62cb98e-1031-4200-8de4-3d2ab68c891d"
      },
      "execution_count": 2,
      "outputs": [
        {
          "output_type": "stream",
          "name": "stdout",
          "text": [
            "Collecting albumentations==0.4.6\n",
            "  Downloading albumentations-0.4.6.tar.gz (117 kB)\n",
            "\u001b[?25l     \u001b[90m━━━━━━━━━━━━━━━━━━━━━━━━━━━━━━━━━━━━━━━━\u001b[0m \u001b[32m0.0/117.2 kB\u001b[0m \u001b[31m?\u001b[0m eta \u001b[36m-:--:--\u001b[0m\r\u001b[2K     \u001b[91m━━━━━━━━━━━━━━━━━━━━━━━━━━━━━━━\u001b[0m\u001b[90m╺\u001b[0m\u001b[90m━━━━━━━━\u001b[0m \u001b[32m92.2/117.2 kB\u001b[0m \u001b[31m2.5 MB/s\u001b[0m eta \u001b[36m0:00:01\u001b[0m\r\u001b[2K     \u001b[90m━━━━━━━━━━━━━━━━━━━━━━━━━━━━━━━━━━━━━━━\u001b[0m \u001b[32m117.2/117.2 kB\u001b[0m \u001b[31m2.5 MB/s\u001b[0m eta \u001b[36m0:00:00\u001b[0m\n",
            "\u001b[?25h  Preparing metadata (setup.py) ... \u001b[?25l\u001b[?25hdone\n",
            "Requirement already satisfied: numpy>=1.11.1 in /usr/local/lib/python3.10/dist-packages (from albumentations==0.4.6) (1.22.4)\n",
            "Requirement already satisfied: scipy in /usr/local/lib/python3.10/dist-packages (from albumentations==0.4.6) (1.10.1)\n",
            "Requirement already satisfied: imgaug>=0.4.0 in /usr/local/lib/python3.10/dist-packages (from albumentations==0.4.6) (0.4.0)\n",
            "Requirement already satisfied: PyYAML in /usr/local/lib/python3.10/dist-packages (from albumentations==0.4.6) (6.0)\n",
            "Requirement already satisfied: opencv-python>=4.1.1 in /usr/local/lib/python3.10/dist-packages (from albumentations==0.4.6) (4.7.0.72)\n",
            "Requirement already satisfied: six in /usr/local/lib/python3.10/dist-packages (from imgaug>=0.4.0->albumentations==0.4.6) (1.16.0)\n",
            "Requirement already satisfied: Pillow in /usr/local/lib/python3.10/dist-packages (from imgaug>=0.4.0->albumentations==0.4.6) (8.4.0)\n",
            "Requirement already satisfied: matplotlib in /usr/local/lib/python3.10/dist-packages (from imgaug>=0.4.0->albumentations==0.4.6) (3.7.1)\n",
            "Requirement already satisfied: scikit-image>=0.14.2 in /usr/local/lib/python3.10/dist-packages (from imgaug>=0.4.0->albumentations==0.4.6) (0.19.3)\n",
            "Requirement already satisfied: imageio in /usr/local/lib/python3.10/dist-packages (from imgaug>=0.4.0->albumentations==0.4.6) (2.25.1)\n",
            "Requirement already satisfied: Shapely in /usr/local/lib/python3.10/dist-packages (from imgaug>=0.4.0->albumentations==0.4.6) (2.0.1)\n",
            "Requirement already satisfied: networkx>=2.2 in /usr/local/lib/python3.10/dist-packages (from scikit-image>=0.14.2->imgaug>=0.4.0->albumentations==0.4.6) (3.1)\n",
            "Requirement already satisfied: tifffile>=2019.7.26 in /usr/local/lib/python3.10/dist-packages (from scikit-image>=0.14.2->imgaug>=0.4.0->albumentations==0.4.6) (2023.7.10)\n",
            "Requirement already satisfied: PyWavelets>=1.1.1 in /usr/local/lib/python3.10/dist-packages (from scikit-image>=0.14.2->imgaug>=0.4.0->albumentations==0.4.6) (1.4.1)\n",
            "Requirement already satisfied: packaging>=20.0 in /usr/local/lib/python3.10/dist-packages (from scikit-image>=0.14.2->imgaug>=0.4.0->albumentations==0.4.6) (23.1)\n",
            "Requirement already satisfied: contourpy>=1.0.1 in /usr/local/lib/python3.10/dist-packages (from matplotlib->imgaug>=0.4.0->albumentations==0.4.6) (1.1.0)\n",
            "Requirement already satisfied: cycler>=0.10 in /usr/local/lib/python3.10/dist-packages (from matplotlib->imgaug>=0.4.0->albumentations==0.4.6) (0.11.0)\n",
            "Requirement already satisfied: fonttools>=4.22.0 in /usr/local/lib/python3.10/dist-packages (from matplotlib->imgaug>=0.4.0->albumentations==0.4.6) (4.41.0)\n",
            "Requirement already satisfied: kiwisolver>=1.0.1 in /usr/local/lib/python3.10/dist-packages (from matplotlib->imgaug>=0.4.0->albumentations==0.4.6) (1.4.4)\n",
            "Requirement already satisfied: pyparsing>=2.3.1 in /usr/local/lib/python3.10/dist-packages (from matplotlib->imgaug>=0.4.0->albumentations==0.4.6) (3.1.0)\n",
            "Requirement already satisfied: python-dateutil>=2.7 in /usr/local/lib/python3.10/dist-packages (from matplotlib->imgaug>=0.4.0->albumentations==0.4.6) (2.8.2)\n",
            "Building wheels for collected packages: albumentations\n",
            "  Building wheel for albumentations (setup.py) ... \u001b[?25l\u001b[?25hdone\n",
            "  Created wheel for albumentations: filename=albumentations-0.4.6-py3-none-any.whl size=65156 sha256=c81580e15532e3602b889e6686f8a67ce99922ddf4b8093c6222d13a192a3ee0\n",
            "  Stored in directory: /root/.cache/pip/wheels/f9/d7/0c/6ed42fd872f7d1af78b25045f8b16be330f2c70ae72c83e37d\n",
            "Successfully built albumentations\n",
            "Installing collected packages: albumentations\n",
            "  Attempting uninstall: albumentations\n",
            "    Found existing installation: albumentations 1.2.1\n",
            "    Uninstalling albumentations-1.2.1:\n",
            "      Successfully uninstalled albumentations-1.2.1\n",
            "Successfully installed albumentations-0.4.6\n",
            "Collecting torch_lr_finder\n",
            "  Downloading torch_lr_finder-0.2.1-py3-none-any.whl (11 kB)\n",
            "Requirement already satisfied: matplotlib in /usr/local/lib/python3.10/dist-packages (from torch_lr_finder) (3.7.1)\n",
            "Requirement already satisfied: numpy in /usr/local/lib/python3.10/dist-packages (from torch_lr_finder) (1.22.4)\n",
            "Requirement already satisfied: torch>=0.4.1 in /usr/local/lib/python3.10/dist-packages (from torch_lr_finder) (2.0.1+cu118)\n",
            "Requirement already satisfied: tqdm in /usr/local/lib/python3.10/dist-packages (from torch_lr_finder) (4.65.0)\n",
            "Requirement already satisfied: packaging in /usr/local/lib/python3.10/dist-packages (from torch_lr_finder) (23.1)\n",
            "Requirement already satisfied: filelock in /usr/local/lib/python3.10/dist-packages (from torch>=0.4.1->torch_lr_finder) (3.12.2)\n",
            "Requirement already satisfied: typing-extensions in /usr/local/lib/python3.10/dist-packages (from torch>=0.4.1->torch_lr_finder) (4.7.1)\n",
            "Requirement already satisfied: sympy in /usr/local/lib/python3.10/dist-packages (from torch>=0.4.1->torch_lr_finder) (1.11.1)\n",
            "Requirement already satisfied: networkx in /usr/local/lib/python3.10/dist-packages (from torch>=0.4.1->torch_lr_finder) (3.1)\n",
            "Requirement already satisfied: jinja2 in /usr/local/lib/python3.10/dist-packages (from torch>=0.4.1->torch_lr_finder) (3.1.2)\n",
            "Requirement already satisfied: triton==2.0.0 in /usr/local/lib/python3.10/dist-packages (from torch>=0.4.1->torch_lr_finder) (2.0.0)\n",
            "Requirement already satisfied: cmake in /usr/local/lib/python3.10/dist-packages (from triton==2.0.0->torch>=0.4.1->torch_lr_finder) (3.25.2)\n",
            "Requirement already satisfied: lit in /usr/local/lib/python3.10/dist-packages (from triton==2.0.0->torch>=0.4.1->torch_lr_finder) (16.0.6)\n",
            "Requirement already satisfied: contourpy>=1.0.1 in /usr/local/lib/python3.10/dist-packages (from matplotlib->torch_lr_finder) (1.1.0)\n",
            "Requirement already satisfied: cycler>=0.10 in /usr/local/lib/python3.10/dist-packages (from matplotlib->torch_lr_finder) (0.11.0)\n",
            "Requirement already satisfied: fonttools>=4.22.0 in /usr/local/lib/python3.10/dist-packages (from matplotlib->torch_lr_finder) (4.41.0)\n",
            "Requirement already satisfied: kiwisolver>=1.0.1 in /usr/local/lib/python3.10/dist-packages (from matplotlib->torch_lr_finder) (1.4.4)\n",
            "Requirement already satisfied: pillow>=6.2.0 in /usr/local/lib/python3.10/dist-packages (from matplotlib->torch_lr_finder) (8.4.0)\n",
            "Requirement already satisfied: pyparsing>=2.3.1 in /usr/local/lib/python3.10/dist-packages (from matplotlib->torch_lr_finder) (3.1.0)\n",
            "Requirement already satisfied: python-dateutil>=2.7 in /usr/local/lib/python3.10/dist-packages (from matplotlib->torch_lr_finder) (2.8.2)\n",
            "Requirement already satisfied: six>=1.5 in /usr/local/lib/python3.10/dist-packages (from python-dateutil>=2.7->matplotlib->torch_lr_finder) (1.16.0)\n",
            "Requirement already satisfied: MarkupSafe>=2.0 in /usr/local/lib/python3.10/dist-packages (from jinja2->torch>=0.4.1->torch_lr_finder) (2.1.3)\n",
            "Requirement already satisfied: mpmath>=0.19 in /usr/local/lib/python3.10/dist-packages (from sympy->torch>=0.4.1->torch_lr_finder) (1.3.0)\n",
            "Installing collected packages: torch_lr_finder\n",
            "Successfully installed torch_lr_finder-0.2.1\n",
            "Requirement already satisfied: torch in /usr/local/lib/python3.10/dist-packages (2.0.1+cu118)\n",
            "Requirement already satisfied: filelock in /usr/local/lib/python3.10/dist-packages (from torch) (3.12.2)\n",
            "Requirement already satisfied: typing-extensions in /usr/local/lib/python3.10/dist-packages (from torch) (4.7.1)\n",
            "Requirement already satisfied: sympy in /usr/local/lib/python3.10/dist-packages (from torch) (1.11.1)\n",
            "Requirement already satisfied: networkx in /usr/local/lib/python3.10/dist-packages (from torch) (3.1)\n",
            "Requirement already satisfied: jinja2 in /usr/local/lib/python3.10/dist-packages (from torch) (3.1.2)\n",
            "Requirement already satisfied: triton==2.0.0 in /usr/local/lib/python3.10/dist-packages (from torch) (2.0.0)\n",
            "Requirement already satisfied: cmake in /usr/local/lib/python3.10/dist-packages (from triton==2.0.0->torch) (3.25.2)\n",
            "Requirement already satisfied: lit in /usr/local/lib/python3.10/dist-packages (from triton==2.0.0->torch) (16.0.6)\n",
            "Requirement already satisfied: MarkupSafe>=2.0 in /usr/local/lib/python3.10/dist-packages (from jinja2->torch) (2.1.3)\n",
            "Requirement already satisfied: mpmath>=0.19 in /usr/local/lib/python3.10/dist-packages (from sympy->torch) (1.3.0)\n"
          ]
        }
      ]
    },
    {
      "cell_type": "code",
      "source": [
        "from __future__ import print_function\n",
        "import torch\n",
        "import torch.nn as nn\n",
        "import torch.nn.functional as F\n",
        "import torch.optim as optim\n",
        "from torchvision import datasets, transforms\n",
        "import os\n",
        "os.environ['KMP_DUPLICATE_LIB_OK']='True'"
      ],
      "metadata": {
        "id": "MZ8wQ_Y3kQNA"
      },
      "execution_count": 3,
      "outputs": []
    },
    {
      "cell_type": "code",
      "source": [
        "import torch\n",
        "import albumentations as A\n",
        "from albumentations.pytorch import ToTensorV2\n",
        "\n",
        "from torchvision import transforms\n",
        "\n",
        "torch.manual_seed(1)\n",
        "\n",
        "\n",
        "def get_a_train_transform():\n",
        "    \"\"\"Get transformer for training data\n",
        "\n",
        "    Returns:\n",
        "        Compose: Composed transformations\n",
        "    \"\"\"\n",
        "    return A.Compose([\n",
        "        A.Normalize(\n",
        "            mean = (0.4914, 0.4822, 0.4465),\n",
        "            std = (0.2470, 0.2435, 0.2616), always_apply = True\n",
        "        ),\n",
        "        A.HorizontalFlip(),\n",
        "        A.ShiftScaleRotate(shift_limit=(-0.2, 0.2), scale_limit=(-0.2, 0.2), rotate_limit=(-15, 15), p=0.5),\n",
        "        A.PadIfNeeded(min_height=36, min_width=36, p=1.0),\n",
        "        A.RandomCrop (32, 32, always_apply=False, p=1.0),\n",
        "        A.CenterCrop(32, 32, always_apply=False, p=1.0),\n",
        "        #A.RandomBrightnessContrast(p=0.5, always_apply = False),\n",
        "        A.CoarseDropout(max_holes = 1, max_height=8, max_width=8, min_holes = 1, min_height=8, min_width=8,\n",
        "                        fill_value=(0.4914, 0.4822, 0.4465), always_apply=False, p=0.5),\n",
        "\n",
        "        ToTensorV2()\n",
        "        ])\n",
        "\n",
        "\n",
        "\n",
        "def get_a_test_transform():\n",
        "    \"\"\"Get transformer for test data\n",
        "\n",
        "    Returns:\n",
        "        Compose: Composed transformations\n",
        "    \"\"\"\n",
        "    return A.Compose([\n",
        "         A.Normalize((0.4914, 0.4822, 0.4465), (0.2023, 0.1994, 0.2010), always_apply = True),\n",
        "                                  ToTensorV2()\n",
        "    ])\n",
        "\n",
        "\n",
        "\n"
      ],
      "metadata": {
        "id": "HmcTL4RqkWpk"
      },
      "execution_count": 4,
      "outputs": []
    },
    {
      "cell_type": "code",
      "source": [
        "import numpy as np\n",
        "import torch\n",
        "from torchvision import datasets\n",
        "from torch.utils.data import Dataset, DataLoader\n",
        "from torchvision.transforms import ToTensor\n",
        "\n",
        "\n",
        "torch.manual_seed(1)\n",
        "\n",
        "\n",
        "class Cifar10SearchDataset(Dataset):\n",
        "    \"\"\"\n",
        "    Custom Dataset Class\n",
        "\n",
        "    \"\"\"\n",
        "\n",
        "    def __init__(self, dataset, transforms=None):\n",
        "        \"\"\"Initialize Dataset\n",
        "\n",
        "        Args:\n",
        "            dataset (Dataset): Pytorch Dataset instance\n",
        "            transforms (Transform.Compose, optional): Tranform function instance. Defaults to None.\n",
        "        \"\"\"\n",
        "        self.transforms = transforms\n",
        "        self.dataset = dataset\n",
        "\n",
        "    def __len__(self):\n",
        "        \"\"\"Get dataset length\n",
        "\n",
        "        Returns:\n",
        "            int: Length of dataset\n",
        "        \"\"\"\n",
        "        return len(self.dataset)\n",
        "\n",
        "    def __getitem__(self, idx):\n",
        "        \"\"\"Get an item form dataset\n",
        "\n",
        "        Args:\n",
        "            idx (int): id of item in dataset\n",
        "\n",
        "        Returns:\n",
        "            (tensor, int): Return tensor of transformer image, label\n",
        "        \"\"\"\n",
        "        # Read Image and Label\n",
        "        image, label = self.dataset[idx]#,self.targets[idx]\n",
        "\n",
        "        image = np.array(image)\n",
        "\n",
        "        # Apply Transforms\n",
        "        if self.transforms is not None:\n",
        "            image = (self.transforms(image=image))[\"image\"]\n",
        "\n",
        "\n",
        "        return (image, label)\n",
        "\n",
        "\n",
        "def get_loader(train_transform, test_transform, batch_size=128, use_cuda=True):\n",
        "    \"\"\"Get instance of tran and test loaders\n",
        "    self.batch_size = 128\n",
        "        self.device = device\n",
        "        self.use_cuda = use_cuda\n",
        "    Args:\n",
        "        train_transform (Transform): Instance of transform function for training\n",
        "        test_transform (Transform): Instance of transform function for validation\n",
        "        batch_size (int, optional): batch size to be uised in training. Defaults to 64.\n",
        "        use_cuda (bool, optional): Enable/Disable Cuda Gpu. Defaults to True.\n",
        "\n",
        "    Returns:\n",
        "        (DataLoader, DataLoader): Get instance of train and test data loaders\n",
        "    \"\"\"\n",
        "    kwargs = {'num_workers': 0, 'pin_memory': True} if use_cuda else dict(shuffle=True, batch_size=64)\n",
        "\n",
        "    train_loader = DataLoader(\n",
        "        Cifar10SearchDataset(datasets.CIFAR10('../data', train=True,\n",
        "                     download=True), transforms=train_transform),\n",
        "        batch_size=batch_size, shuffle=True, **kwargs)\n",
        "\n",
        "    test_loader = DataLoader(\n",
        "        Cifar10SearchDataset(datasets.CIFAR10('../data', train=False,\n",
        "                     download=True), transforms=test_transform),\n",
        "        batch_size=batch_size, shuffle=True, **kwargs)\n",
        "\n",
        "    return train_loader, test_loader"
      ],
      "metadata": {
        "id": "n_eT0CHxkbQ1"
      },
      "execution_count": 5,
      "outputs": []
    },
    {
      "cell_type": "code",
      "source": [
        "batch_size = 512\n",
        "use_cuda=True\n",
        "train_loader, test_loader = get_loader(get_a_train_transform(), get_a_test_transform(), batch_size=batch_size, use_cuda=use_cuda)\n",
        "\n",
        "\n",
        "print(get_a_train_transform())\n",
        "\n",
        "print(get_a_test_transform())\n",
        "\n",
        "print(train_loader)\n",
        "print('length of train_loader',len(train_loader))\n",
        "print(test_loader)\n",
        "print('length of test_loader',len(test_loader))\n"
      ],
      "metadata": {
        "colab": {
          "base_uri": "https://localhost:8080/"
        },
        "id": "bbxIfW90khjD",
        "outputId": "032c74f4-055e-4fdd-8179-18a8776df7cc"
      },
      "execution_count": 6,
      "outputs": [
        {
          "output_type": "stream",
          "name": "stdout",
          "text": [
            "Files already downloaded and verified\n",
            "Files already downloaded and verified\n",
            "Compose([\n",
            "  Normalize(always_apply=True, p=1.0, mean=(0.4914, 0.4822, 0.4465), std=(0.247, 0.2435, 0.2616), max_pixel_value=255.0),\n",
            "  HorizontalFlip(always_apply=False, p=0.5),\n",
            "  ShiftScaleRotate(always_apply=False, p=0.5, shift_limit=(-0.2, 0.2), scale_limit=(-0.19999999999999996, 0.19999999999999996), rotate_limit=(-15, 15), interpolation=1, border_mode=4, value=None, mask_value=None),\n",
            "  PadIfNeeded(always_apply=False, p=1.0, min_height=36, min_width=36, border_mode=4, value=None, mask_value=None),\n",
            "  RandomCrop(always_apply=False, p=1.0, height=32, width=32),\n",
            "  CenterCrop(always_apply=False, p=1.0, height=32, width=32),\n",
            "  CoarseDropout(always_apply=False, p=0.5, max_holes=1, max_height=8, max_width=8, min_holes=1, min_height=8, min_width=8),\n",
            "  ToTensorV2(always_apply=True, p=1.0),\n",
            "], p=1.0, bbox_params=None, keypoint_params=None, additional_targets={})\n",
            "Compose([\n",
            "  Normalize(always_apply=True, p=1.0, mean=(0.4914, 0.4822, 0.4465), std=(0.2023, 0.1994, 0.201), max_pixel_value=255.0),\n",
            "  ToTensorV2(always_apply=True, p=1.0),\n",
            "], p=1.0, bbox_params=None, keypoint_params=None, additional_targets={})\n",
            "<torch.utils.data.dataloader.DataLoader object at 0x7df02a1e25f0>\n",
            "length of train_loader 98\n",
            "<torch.utils.data.dataloader.DataLoader object at 0x7df02a1e2e90>\n",
            "length of test_loader 20\n"
          ]
        }
      ]
    },
    {
      "cell_type": "code",
      "source": [
        "import torch\n",
        "import numpy as np\n",
        "import matplotlib.pyplot as plt\n",
        "import itertools\n",
        "from torchvision import datasets\n",
        "from torch.utils.data import Dataset, DataLoader\n",
        "\n",
        "\n",
        "\n",
        "def print_samples(loader, count=16):\n",
        "    \"\"\"Print samples input images\n",
        "\n",
        "    Args:\n",
        "        loader (DataLoader): dataloader for training data\n",
        "        count (int, optional): Number of samples to print. Defaults to 16.\n",
        "    \"\"\"\n",
        "    # Print Random Samples\n",
        "    classes = ('plane', 'car', 'bird', 'cat',\n",
        "           'deer', 'dog', 'frog', 'horse', 'ship', 'truck')\n",
        "    if not count % 8 == 0:\n",
        "        return\n",
        "    fig = plt.figure(figsize=(15, 5))\n",
        "    for imgs, labels in loader:\n",
        "        for i in range(count):\n",
        "            ax = fig.add_subplot(int(count/8), 8, i + 1, xticks=[], yticks=[])\n",
        "            ax.set_title(f'{classes[labels[i]]}')\n",
        "            plt.imshow(imgs[i].numpy().transpose(1, 2, 0))\n",
        "        break\n"
      ],
      "metadata": {
        "id": "qM538za2kkg7"
      },
      "execution_count": 7,
      "outputs": []
    },
    {
      "cell_type": "code",
      "source": [
        "print_samples(train_loader)"
      ],
      "metadata": {
        "colab": {
          "base_uri": "https://localhost:8080/",
          "height": 663
        },
        "id": "DXLI0GTrkngD",
        "outputId": "20ec0764-b700-4ec5-9e82-1e4b9f14550b"
      },
      "execution_count": 8,
      "outputs": [
        {
          "output_type": "stream",
          "name": "stderr",
          "text": [
            "WARNING:matplotlib.image:Clipping input data to the valid range for imshow with RGB data ([0..1] for floats or [0..255] for integers).\n",
            "WARNING:matplotlib.image:Clipping input data to the valid range for imshow with RGB data ([0..1] for floats or [0..255] for integers).\n",
            "WARNING:matplotlib.image:Clipping input data to the valid range for imshow with RGB data ([0..1] for floats or [0..255] for integers).\n",
            "WARNING:matplotlib.image:Clipping input data to the valid range for imshow with RGB data ([0..1] for floats or [0..255] for integers).\n",
            "WARNING:matplotlib.image:Clipping input data to the valid range for imshow with RGB data ([0..1] for floats or [0..255] for integers).\n",
            "WARNING:matplotlib.image:Clipping input data to the valid range for imshow with RGB data ([0..1] for floats or [0..255] for integers).\n",
            "WARNING:matplotlib.image:Clipping input data to the valid range for imshow with RGB data ([0..1] for floats or [0..255] for integers).\n",
            "WARNING:matplotlib.image:Clipping input data to the valid range for imshow with RGB data ([0..1] for floats or [0..255] for integers).\n",
            "WARNING:matplotlib.image:Clipping input data to the valid range for imshow with RGB data ([0..1] for floats or [0..255] for integers).\n",
            "WARNING:matplotlib.image:Clipping input data to the valid range for imshow with RGB data ([0..1] for floats or [0..255] for integers).\n",
            "WARNING:matplotlib.image:Clipping input data to the valid range for imshow with RGB data ([0..1] for floats or [0..255] for integers).\n",
            "WARNING:matplotlib.image:Clipping input data to the valid range for imshow with RGB data ([0..1] for floats or [0..255] for integers).\n",
            "WARNING:matplotlib.image:Clipping input data to the valid range for imshow with RGB data ([0..1] for floats or [0..255] for integers).\n",
            "WARNING:matplotlib.image:Clipping input data to the valid range for imshow with RGB data ([0..1] for floats or [0..255] for integers).\n",
            "WARNING:matplotlib.image:Clipping input data to the valid range for imshow with RGB data ([0..1] for floats or [0..255] for integers).\n",
            "WARNING:matplotlib.image:Clipping input data to the valid range for imshow with RGB data ([0..1] for floats or [0..255] for integers).\n"
          ]
        },
        {
          "output_type": "display_data",
          "data": {
            "text/plain": [
              "<Figure size 1500x500 with 16 Axes>"
            ],
            "image/png": "[encoded data removed]"
          },
          "metadata": {}
        }
      ]
    },
    {
      "cell_type": "code",
      "source": [
        "import torch.nn.functional as F\n",
        "import torch\n",
        "import torch.nn as nn\n",
        "class Net(nn.Module):\n",
        "    def __init__(self):\n",
        "        super(Net, self).__init__()\n",
        "        #drop=0.01\n",
        "        # Preparation Layer\n",
        "        self.conv1 = nn.Sequential (\n",
        "            nn.Conv2d(3, 64, kernel_size=3, stride=1, padding=1,bias=False),\n",
        "            nn.BatchNorm2d(64),\n",
        "            nn.ReLU(inplace=True)\n",
        "            )  # Number of Parameters = 3*3*3*64=1728\n",
        "        # Layer 1\n",
        "        self.conv11 = nn.Sequential(\n",
        "            nn.Conv2d(64, 128, kernel_size=3, stride=1, padding=1,bias=False),\n",
        "            nn.MaxPool2d(kernel_size=2,stride=2),\n",
        "            nn.BatchNorm2d(128),\n",
        "            nn.ReLU(inplace=True)\n",
        "            )  # Number of Parameters = 3*3*64*128 = 73728\n",
        "        self.conv12 = nn.Sequential(\n",
        "            nn.Conv2d(128,128, kernel_size=3, stride=1, padding=1,bias=False),# Number of Parameters = 3*3*64*128 = 73728\n",
        "            nn.BatchNorm2d(128),\n",
        "            nn.ReLU(inplace=True),\n",
        "            nn.Conv2d(128,128, kernel_size=3, stride=1, padding=1,bias=False),# Number of Parameters = 3*3*64*128 = 73728\n",
        "            nn.BatchNorm2d(128),\n",
        "            nn.ReLU(inplace=True)\n",
        "            )\n",
        "\n",
        "        # Layer 2\n",
        "        self.conv2 = nn.Sequential(\n",
        "            nn.Conv2d(128, 256, kernel_size=3, stride=1, padding=1,bias=False),\n",
        "            nn.MaxPool2d(kernel_size=2,stride=2),\n",
        "            nn.BatchNorm2d(256),\n",
        "            nn.ReLU(inplace=True)\n",
        "            )\n",
        "\n",
        "        # Layer 3\n",
        "        self.conv31 = nn.Sequential(\n",
        "            nn.Conv2d(256, 512, kernel_size=3, stride=1, padding=1,bias=False),\n",
        "            nn.MaxPool2d(kernel_size=2,stride=2),\n",
        "            nn.BatchNorm2d(512),\n",
        "            nn.ReLU(inplace=True)\n",
        "            )\n",
        "        self.conv32 = nn.Sequential(\n",
        "            nn.Conv2d(512,512, kernel_size=3, stride=1, padding=1,bias=False),\n",
        "            nn.BatchNorm2d(512),\n",
        "            nn.ReLU(inplace=True),\n",
        "            nn.Conv2d(512,512, kernel_size=3, stride=1, padding=1,bias=False),\n",
        "            nn.BatchNorm2d(512),\n",
        "            nn.ReLU(inplace=True)\n",
        "            )\n",
        "\n",
        "        self.maxpool = nn.MaxPool2d(kernel_size=4,stride=2)\n",
        "\n",
        "        # Fully connected\n",
        "        self.fc = nn.Linear(512, 10, bias=True)\n",
        "\n",
        "\n",
        "    def forward(self, x):\n",
        "        x = self.conv1(x)\n",
        "\n",
        "        x = self.conv11(x)\n",
        "        R1=x\n",
        "        x = self.conv12(x)\n",
        "        x=x+R1\n",
        "\n",
        "        x = self.conv2(x)\n",
        "\n",
        "        x = self.conv31(x)\n",
        "        R2=x\n",
        "        x = self.conv32(x)\n",
        "        x=x+R2\n",
        "\n",
        "        x = self.maxpool(x)\n",
        "        #x = x.randn(512, 1)\n",
        "\n",
        "# squeeze the tensor to size 512x\n",
        "        x = x.squeeze(dim=[2, 3])\n",
        "\n",
        "        #x = x.view(512, 10)\n",
        "\n",
        "        x = self.fc(x)\n",
        "\n",
        "        x = x.view(-1, 10)\n",
        "        return x\n",
        "        #y = F.log_softmax(x, dim=-1)\n",
        "        #return  y\n",
        "\n",
        "def model_summary(model,input_size):\n",
        "    model = Net().to(device)\n",
        "    summary(model, input_size=(3, 32, 32))\n",
        "    return model,input_size"
      ],
      "metadata": {
        "id": "QO4ZVAvykqA7"
      },
      "execution_count": 9,
      "outputs": []
    },
    {
      "cell_type": "code",
      "source": [
        "\n",
        "import torch\n",
        "from tqdm import tqdm\n",
        "import torch.nn.functional as F\n",
        "\n",
        "\n",
        "\n",
        "def train_model(model, device, train_loader, optimizer, epoch):\n",
        "    train_losses = []\n",
        "    #test_losses = []\n",
        "    train_acc = []\n",
        "    #test_acc = []\n",
        "    model.train()\n",
        "    pbar = tqdm(train_loader)\n",
        "    correct = 0\n",
        "    processed = 0\n",
        "    #criterion = nn.CrossEntropyLoss()\n",
        "    for batch_idx, (data, target) in enumerate(pbar):\n",
        "    # get samples\n",
        "        data, target = data.to(device), target.to(device)\n",
        "\n",
        "    # Init\n",
        "        #optimizer.zero_grad()\n",
        "    # In PyTorch, we need to set the gradients to zero before starting to do backpropragation because PyTorch accumulates the gradients on subsequent backward passes.\n",
        "    # Because of this, when you start your training loop, ideally you should zero out the gradients so that you do the parameter update correctly.\n",
        "\n",
        "    # Predict\n",
        "        y_pred = model(data)\n",
        "\n",
        "    # Calculate loss\n",
        "\n",
        "        loss = criterion(y_pred, target)\n",
        "        #loss = F.normalize(loss)\n",
        "        train_losses.append(loss)\n",
        "        optimizer.zero_grad()\n",
        "    # Backpropagation\n",
        "        loss.backward()\n",
        "        optimizer.step()\n",
        "\n",
        "    # Update pbar-tqdm\n",
        "\n",
        "        pred = y_pred.argmax(dim=1, keepdim=True)  # get the index of the max log-probability\n",
        "        correct += pred.eq(target.view_as(pred)).sum().item()\n",
        "        processed += len(data)\n",
        "\n",
        "        pbar.set_description(desc= f'Loss={loss.item()} Batch_id={batch_idx} Accuracy={100*correct/processed:0.2f}')\n",
        "        train_acc.append(100*correct/processed)\n",
        "\n",
        "def test_model(model, device, test_loader):\n",
        "    #train_losses = []\n",
        "    test_losses = []\n",
        "    #train_acc = []\n",
        "    test_acc = []\n",
        "    model.eval()\n",
        "    test_loss = 0\n",
        "    correct = 0\n",
        "    with torch.no_grad():\n",
        "        for data, target in test_loader:\n",
        "            data, target = data.to(device), target.to(device)\n",
        "            output = model(data)\n",
        "            #test_loss += criterion(output, target).item()\n",
        "            #test_loss = F.normalize(test_loss)\n",
        "            pred =output.argmax(dim=1, keepdim=True)  # get the index of the max log-probability\n",
        "            correct += pred.eq(target.view_as(pred)).sum().item()\n",
        "\n",
        "    test_loss /= len(test_loader.dataset)\n",
        "    test_losses.append(test_loss)\n",
        "\n",
        "    print('\\nTest set:  Accuracy: {}/{} ({:.2f}%)\\n'.format(\n",
        "         correct, len(test_loader.dataset),\n",
        "        100. * correct / len(test_loader.dataset)))\n",
        "\n",
        "    test_acc.append(100. * correct / len(test_loader.dataset))"
      ],
      "metadata": {
        "id": "foGLekX6kuQN"
      },
      "execution_count": 10,
      "outputs": []
    },
    {
      "cell_type": "code",
      "source": [
        "%pip install torchsummary\n",
        "from torchsummary import summary\n",
        "\n",
        "\n",
        "use_cuda = torch.cuda.is_available()\n",
        "device = torch.device(\"cuda\" if use_cuda else \"cpu\")\n",
        "print(device)\n",
        "\n",
        "\n",
        "model = Net().to(device)\n",
        "summary(model, input_size=(3, 32, 32))"
      ],
      "metadata": {
        "colab": {
          "base_uri": "https://localhost:8080/"
        },
        "id": "oxCRYl-DkxBP",
        "outputId": "51254472-b86f-4783-a4bd-24d1d5737f69"
      },
      "execution_count": 11,
      "outputs": [
        {
          "output_type": "stream",
          "name": "stdout",
          "text": [
            "Requirement already satisfied: torchsummary in /usr/local/lib/python3.10/dist-packages (1.5.1)\n",
            "cuda\n",
            "----------------------------------------------------------------\n",
            "        Layer (type)               Output Shape         Param #\n",
            "================================================================\n",
            "            Conv2d-1           [-1, 64, 32, 32]           1,728\n",
            "       BatchNorm2d-2           [-1, 64, 32, 32]             128\n",
            "              ReLU-3           [-1, 64, 32, 32]               0\n",
            "            Conv2d-4          [-1, 128, 32, 32]          73,728\n",
            "         MaxPool2d-5          [-1, 128, 16, 16]               0\n",
            "       BatchNorm2d-6          [-1, 128, 16, 16]             256\n",
            "              ReLU-7          [-1, 128, 16, 16]               0\n",
            "            Conv2d-8          [-1, 128, 16, 16]         147,456\n",
            "       BatchNorm2d-9          [-1, 128, 16, 16]             256\n",
            "             ReLU-10          [-1, 128, 16, 16]               0\n",
            "           Conv2d-11          [-1, 128, 16, 16]         147,456\n",
            "      BatchNorm2d-12          [-1, 128, 16, 16]             256\n",
            "             ReLU-13          [-1, 128, 16, 16]               0\n",
            "           Conv2d-14          [-1, 256, 16, 16]         294,912\n",
            "        MaxPool2d-15            [-1, 256, 8, 8]               0\n",
            "      BatchNorm2d-16            [-1, 256, 8, 8]             512\n",
            "             ReLU-17            [-1, 256, 8, 8]               0\n",
            "           Conv2d-18            [-1, 512, 8, 8]       1,179,648\n",
            "        MaxPool2d-19            [-1, 512, 4, 4]               0\n",
            "      BatchNorm2d-20            [-1, 512, 4, 4]           1,024\n",
            "             ReLU-21            [-1, 512, 4, 4]               0\n",
            "           Conv2d-22            [-1, 512, 4, 4]       2,359,296\n",
            "      BatchNorm2d-23            [-1, 512, 4, 4]           1,024\n",
            "             ReLU-24            [-1, 512, 4, 4]               0\n",
            "           Conv2d-25            [-1, 512, 4, 4]       2,359,296\n",
            "      BatchNorm2d-26            [-1, 512, 4, 4]           1,024\n",
            "             ReLU-27            [-1, 512, 4, 4]               0\n",
            "        MaxPool2d-28            [-1, 512, 1, 1]               0\n",
            "           Linear-29                   [-1, 10]           5,130\n",
            "================================================================\n",
            "Total params: 6,573,130\n",
            "Trainable params: 6,573,130\n",
            "Non-trainable params: 0\n",
            "----------------------------------------------------------------\n",
            "Input size (MB): 0.01\n",
            "Forward/backward pass size (MB): 6.44\n",
            "Params size (MB): 25.07\n",
            "Estimated Total Size (MB): 31.53\n",
            "----------------------------------------------------------------\n"
          ]
        }
      ]
    },
    {
      "cell_type": "code",
      "source": [
        "model"
      ],
      "metadata": {
        "colab": {
          "base_uri": "https://localhost:8080/"
        },
        "id": "q3HJg7rrkzXj",
        "outputId": "36fb39fa-72eb-439e-d328-42ba0fa29c41"
      },
      "execution_count": 12,
      "outputs": [
        {
          "output_type": "execute_result",
          "data": {
            "text/plain": [
              "Net(\n",
              "  (conv1): Sequential(\n",
              "    (0): Conv2d(3, 64, kernel_size=(3, 3), stride=(1, 1), padding=(1, 1), bias=False)\n",
              "    (1): BatchNorm2d(64, eps=1e-05, momentum=0.1, affine=True, track_running_stats=True)\n",
              "    (2): ReLU(inplace=True)\n",
              "  )\n",
              "  (conv11): Sequential(\n",
              "    (0): Conv2d(64, 128, kernel_size=(3, 3), stride=(1, 1), padding=(1, 1), bias=False)\n",
              "    (1): MaxPool2d(kernel_size=2, stride=2, padding=0, dilation=1, ceil_mode=False)\n",
              "    (2): BatchNorm2d(128, eps=1e-05, momentum=0.1, affine=True, track_running_stats=True)\n",
              "    (3): ReLU(inplace=True)\n",
              "  )\n",
              "  (conv12): Sequential(\n",
              "    (0): Conv2d(128, 128, kernel_size=(3, 3), stride=(1, 1), padding=(1, 1), bias=False)\n",
              "    (1): BatchNorm2d(128, eps=1e-05, momentum=0.1, affine=True, track_running_stats=True)\n",
              "    (2): ReLU(inplace=True)\n",
              "    (3): Conv2d(128, 128, kernel_size=(3, 3), stride=(1, 1), padding=(1, 1), bias=False)\n",
              "    (4): BatchNorm2d(128, eps=1e-05, momentum=0.1, affine=True, track_running_stats=True)\n",
              "    (5): ReLU(inplace=True)\n",
              "  )\n",
              "  (conv2): Sequential(\n",
              "    (0): Conv2d(128, 256, kernel_size=(3, 3), stride=(1, 1), padding=(1, 1), bias=False)\n",
              "    (1): MaxPool2d(kernel_size=2, stride=2, padding=0, dilation=1, ceil_mode=False)\n",
              "    (2): BatchNorm2d(256, eps=1e-05, momentum=0.1, affine=True, track_running_stats=True)\n",
              "    (3): ReLU(inplace=True)\n",
              "  )\n",
              "  (conv31): Sequential(\n",
              "    (0): Conv2d(256, 512, kernel_size=(3, 3), stride=(1, 1), padding=(1, 1), bias=False)\n",
              "    (1): MaxPool2d(kernel_size=2, stride=2, padding=0, dilation=1, ceil_mode=False)\n",
              "    (2): BatchNorm2d(512, eps=1e-05, momentum=0.1, affine=True, track_running_stats=True)\n",
              "    (3): ReLU(inplace=True)\n",
              "  )\n",
              "  (conv32): Sequential(\n",
              "    (0): Conv2d(512, 512, kernel_size=(3, 3), stride=(1, 1), padding=(1, 1), bias=False)\n",
              "    (1): BatchNorm2d(512, eps=1e-05, momentum=0.1, affine=True, track_running_stats=True)\n",
              "    (2): ReLU(inplace=True)\n",
              "    (3): Conv2d(512, 512, kernel_size=(3, 3), stride=(1, 1), padding=(1, 1), bias=False)\n",
              "    (4): BatchNorm2d(512, eps=1e-05, momentum=0.1, affine=True, track_running_stats=True)\n",
              "    (5): ReLU(inplace=True)\n",
              "  )\n",
              "  (maxpool): MaxPool2d(kernel_size=4, stride=2, padding=0, dilation=1, ceil_mode=False)\n",
              "  (fc): Linear(in_features=512, out_features=10, bias=True)\n",
              ")"
            ]
          },
          "metadata": {},
          "execution_count": 12
        }
      ]
    },
    {
      "cell_type": "code",
      "source": [
        "\n",
        "import torch\n",
        "import torch.optim as optim\n",
        "import torch.nn.functional as F\n",
        "import torch.nn as nn\n",
        "from torch_lr_finder import LRFinder\n",
        "\n",
        "model =  Net().to(device)\n",
        "criterion = nn.CrossEntropyLoss()\n",
        "optimizer = optim.Adam(model.parameters(), lr=1e-3, weight_decay=1e-4)\n",
        "\n",
        "lr_finder = LRFinder(model, optimizer, criterion, device=\"cuda\")\n",
        "lr_finder.range_test(train_loader, end_lr=10, num_iter=200, step_mode=\"exp\")\n",
        "lr_finder.plot() # to inspect the loss-learning rate graph\n",
        "\n",
        "min_loss = min(lr_finder.history[\"loss\"])\n",
        "max_lr = lr_finder.history[\"lr\"][np.argmin(lr_finder.history[\"loss\"], axis=0)]\n",
        "\n",
        "print(\"Min Loss = {}, Max LR = {}\".format(min_loss, max_lr))\n",
        "\n",
        "    # Reset the model and optimizer to initial state\n",
        "lr_finder.reset()\n",
        "\n",
        "\n",
        "\n",
        "\n"
      ],
      "metadata": {
        "id": "XB8DHsrBk479",
        "colab": {
          "base_uri": "https://localhost:8080/",
          "height": 573,
          "referenced_widgets": [
            "9adf2341827d4b528b9c5f71465c1abb",
            "cc44b3fe284a4861899cd30c22652e28",
            "9e143059925448ba801271b41e22b7d7",
            "e40b9899ba5d446e904e02bd98dc11a1",
            "578bd37006eb44a48cfcee1864613283",
            "68d2841915cc4deea4bc5e0a2cf6c21d",
            "d43889d7940c4db5b2b30168106535bf",
            "d97a7e4a52b1440db99ef4782a3b4a58",
            "d63dd753a4f742e68bff4f2121b881f2",
            "330a755b56de4e8eaa262678461ebc30",
            "137bd1b035a648a884be1323aa370df7"
          ]
        },
        "outputId": "54f0fa7e-36ee-4d48-af65-bd79597e5dac"
      },
      "execution_count": 39,
      "outputs": [
        {
          "output_type": "display_data",
          "data": {
            "text/plain": [
              "  0%|          | 0/200 [00:00<?, ?it/s]"
            ],
            "application/vnd.jupyter.widget-view+json": {
              "version_major": 2,
              "version_minor": 0,
              "model_id": "9adf2341827d4b528b9c5f71465c1abb"
            }
          },
          "metadata": {}
        },
        {
          "output_type": "stream",
          "name": "stdout",
          "text": [
            "Stopping early, the loss has diverged\n",
            "Learning rate search finished. See the graph with {finder_name}.plot()\n",
            "LR suggestion: steepest gradient\n",
            "Suggested LR: 1.74E-03\n"
          ]
        },
        {
          "output_type": "display_data",
          "data": {
            "text/plain": [
              "<Figure size 640x480 with 1 Axes>"
            ],
            "image/png": "[encoded data removed]"
          },
          "metadata": {}
        },
        {
          "output_type": "stream",
          "name": "stdout",
          "text": [
            "Min Loss = 1.6763818757276585, Max LR = 0.012173827277396614\n"
          ]
        }
      ]
    },
    {
      "cell_type": "code",
      "source": [
        "from torch.optim.lr_scheduler import OneCycleLR\n",
        "\n",
        "EPOCHS = 24\n",
        "learning_rate=[]\n",
        "scheduler = OneCycleLR(\n",
        "        optimizer,\n",
        "        max_lr=1.74E-03,\n",
        "        steps_per_epoch=1,\n",
        "        epochs=26,\n",
        "        pct_start=5/EPOCHS,\n",
        "        div_factor=100,\n",
        "        three_phase=False,\n",
        "        final_div_factor=100,\n",
        "        anneal_strategy='linear'\n",
        "    )\n",
        "\n",
        "EPOCHS = 24\n",
        "for epoch in range(EPOCHS):\n",
        "    scheduler.step()\n",
        "    print(\"EPOCH:\", epoch)\n",
        "    for param_group in optimizer.param_groups:\n",
        "      print(\"lr= \",param_group['lr'])\n",
        "    train_model(model, device, train_loader, optimizer, epoch)\n",
        "    # scheduler.step()\n",
        "    test_model(model, device, test_loader)\n",
        "\n",
        "    learning_rate.append(param_group['lr']),\n",
        ""
      ],
      "metadata": {
        "colab": {
          "base_uri": "https://localhost:8080/"
        },
        "id": "-wPv6zWTmWgJ",
        "outputId": "feff03bf-ffa4-4631-b1eb-87397ba1e561"
      },
      "execution_count": 40,
      "outputs": [
        {
          "output_type": "stream",
          "name": "stdout",
          "text": [
            "EPOCH: 0\n",
            "lr=  0.0004074226415094339\n"
          ]
        },
        {
          "output_type": "stream",
          "name": "stderr",
          "text": [
            "Loss=1.0863311290740967 Batch_id=97 Accuracy=49.47: 100%|██████████| 98/98 [00:35<00:00,  2.79it/s]\n"
          ]
        },
        {
          "output_type": "stream",
          "name": "stdout",
          "text": [
            "\n",
            "Test set:  Accuracy: 5929/10000 (59.29%)\n",
            "\n",
            "EPOCH: 1\n",
            "lr=  0.0007974452830188678\n"
          ]
        },
        {
          "output_type": "stream",
          "name": "stderr",
          "text": [
            "Loss=0.8722756505012512 Batch_id=97 Accuracy=65.48: 100%|██████████| 98/98 [00:34<00:00,  2.84it/s]\n"
          ]
        },
        {
          "output_type": "stream",
          "name": "stdout",
          "text": [
            "\n",
            "Test set:  Accuracy: 7199/10000 (71.99%)\n",
            "\n",
            "EPOCH: 2\n",
            "lr=  0.0011874679245283018\n"
          ]
        },
        {
          "output_type": "stream",
          "name": "stderr",
          "text": [
            "Loss=0.8201348185539246 Batch_id=97 Accuracy=72.48: 100%|██████████| 98/98 [00:34<00:00,  2.86it/s]\n"
          ]
        },
        {
          "output_type": "stream",
          "name": "stdout",
          "text": [
            "\n",
            "Test set:  Accuracy: 7686/10000 (76.86%)\n",
            "\n",
            "EPOCH: 3\n",
            "lr=  0.0015774905660377357\n"
          ]
        },
        {
          "output_type": "stream",
          "name": "stderr",
          "text": [
            "Loss=0.671578586101532 Batch_id=97 Accuracy=76.49: 100%|██████████| 98/98 [00:35<00:00,  2.80it/s]\n"
          ]
        },
        {
          "output_type": "stream",
          "name": "stdout",
          "text": [
            "\n",
            "Test set:  Accuracy: 7849/10000 (78.49%)\n",
            "\n",
            "EPOCH: 4\n",
            "lr=  0.0016906931902834009\n"
          ]
        },
        {
          "output_type": "stream",
          "name": "stderr",
          "text": [
            "Loss=0.6401821970939636 Batch_id=97 Accuracy=80.13: 100%|██████████| 98/98 [00:34<00:00,  2.81it/s]\n"
          ]
        },
        {
          "output_type": "stream",
          "name": "stdout",
          "text": [
            "\n",
            "Test set:  Accuracy: 7519/10000 (75.19%)\n",
            "\n",
            "EPOCH: 5\n",
            "lr=  0.001606167230769231\n"
          ]
        },
        {
          "output_type": "stream",
          "name": "stderr",
          "text": [
            "Loss=0.5577336549758911 Batch_id=97 Accuracy=82.30: 100%|██████████| 98/98 [00:34<00:00,  2.86it/s]\n"
          ]
        },
        {
          "output_type": "stream",
          "name": "stdout",
          "text": [
            "\n",
            "Test set:  Accuracy: 8097/10000 (80.97%)\n",
            "\n",
            "EPOCH: 6\n",
            "lr=  0.0015216412712550607\n"
          ]
        },
        {
          "output_type": "stream",
          "name": "stderr",
          "text": [
            "Loss=0.44225797057151794 Batch_id=97 Accuracy=84.09: 100%|██████████| 98/98 [00:34<00:00,  2.87it/s]\n"
          ]
        },
        {
          "output_type": "stream",
          "name": "stdout",
          "text": [
            "\n",
            "Test set:  Accuracy: 8543/10000 (85.43%)\n",
            "\n",
            "EPOCH: 7\n",
            "lr=  0.0014371153117408906\n"
          ]
        },
        {
          "output_type": "stream",
          "name": "stderr",
          "text": [
            "Loss=0.39895716309547424 Batch_id=97 Accuracy=85.63: 100%|██████████| 98/98 [00:35<00:00,  2.80it/s]\n"
          ]
        },
        {
          "output_type": "stream",
          "name": "stdout",
          "text": [
            "\n",
            "Test set:  Accuracy: 8371/10000 (83.71%)\n",
            "\n",
            "EPOCH: 8\n",
            "lr=  0.0013525893522267206\n"
          ]
        },
        {
          "output_type": "stream",
          "name": "stderr",
          "text": [
            "Loss=0.3777617812156677 Batch_id=97 Accuracy=86.80: 100%|██████████| 98/98 [00:35<00:00,  2.76it/s]\n"
          ]
        },
        {
          "output_type": "stream",
          "name": "stdout",
          "text": [
            "\n",
            "Test set:  Accuracy: 8669/10000 (86.69%)\n",
            "\n",
            "EPOCH: 9\n",
            "lr=  0.0012680633927125507\n"
          ]
        },
        {
          "output_type": "stream",
          "name": "stderr",
          "text": [
            "Loss=0.41653934121131897 Batch_id=97 Accuracy=87.61: 100%|██████████| 98/98 [00:34<00:00,  2.84it/s]\n"
          ]
        },
        {
          "output_type": "stream",
          "name": "stdout",
          "text": [
            "\n",
            "Test set:  Accuracy: 8710/10000 (87.10%)\n",
            "\n",
            "EPOCH: 10\n",
            "lr=  0.0011835374331983805\n"
          ]
        },
        {
          "output_type": "stream",
          "name": "stderr",
          "text": [
            "Loss=0.33829236030578613 Batch_id=97 Accuracy=88.72: 100%|██████████| 98/98 [00:34<00:00,  2.82it/s]\n"
          ]
        },
        {
          "output_type": "stream",
          "name": "stdout",
          "text": [
            "\n",
            "Test set:  Accuracy: 8730/10000 (87.30%)\n",
            "\n",
            "EPOCH: 11\n",
            "lr=  0.0010990114736842106\n"
          ]
        },
        {
          "output_type": "stream",
          "name": "stderr",
          "text": [
            "Loss=0.32964614033699036 Batch_id=97 Accuracy=89.20: 100%|██████████| 98/98 [00:35<00:00,  2.78it/s]\n"
          ]
        },
        {
          "output_type": "stream",
          "name": "stdout",
          "text": [
            "\n",
            "Test set:  Accuracy: 8911/10000 (89.11%)\n",
            "\n",
            "EPOCH: 12\n",
            "lr=  0.0010144855141700406\n"
          ]
        },
        {
          "output_type": "stream",
          "name": "stderr",
          "text": [
            "Loss=0.2808605134487152 Batch_id=97 Accuracy=90.09: 100%|██████████| 98/98 [00:34<00:00,  2.83it/s]\n"
          ]
        },
        {
          "output_type": "stream",
          "name": "stdout",
          "text": [
            "\n",
            "Test set:  Accuracy: 8826/10000 (88.26%)\n",
            "\n",
            "EPOCH: 13\n",
            "lr=  0.0009299595546558704\n"
          ]
        },
        {
          "output_type": "stream",
          "name": "stderr",
          "text": [
            "Loss=0.25487521290779114 Batch_id=97 Accuracy=90.50: 100%|██████████| 98/98 [00:34<00:00,  2.83it/s]\n"
          ]
        },
        {
          "output_type": "stream",
          "name": "stdout",
          "text": [
            "\n",
            "Test set:  Accuracy: 8925/10000 (89.25%)\n",
            "\n",
            "EPOCH: 14\n",
            "lr=  0.0008454335951417004\n"
          ]
        },
        {
          "output_type": "stream",
          "name": "stderr",
          "text": [
            "Loss=0.23481881618499756 Batch_id=97 Accuracy=91.53: 100%|██████████| 98/98 [00:34<00:00,  2.83it/s]\n"
          ]
        },
        {
          "output_type": "stream",
          "name": "stdout",
          "text": [
            "\n",
            "Test set:  Accuracy: 8855/10000 (88.55%)\n",
            "\n",
            "EPOCH: 15\n",
            "lr=  0.0007609076356275303\n"
          ]
        },
        {
          "output_type": "stream",
          "name": "stderr",
          "text": [
            "Loss=0.22415052354335785 Batch_id=97 Accuracy=92.07: 100%|██████████| 98/98 [00:35<00:00,  2.79it/s]\n"
          ]
        },
        {
          "output_type": "stream",
          "name": "stdout",
          "text": [
            "\n",
            "Test set:  Accuracy: 8981/10000 (89.81%)\n",
            "\n",
            "EPOCH: 16\n",
            "lr=  0.0006763816761133604\n"
          ]
        },
        {
          "output_type": "stream",
          "name": "stderr",
          "text": [
            "Loss=0.2578561007976532 Batch_id=97 Accuracy=92.80: 100%|██████████| 98/98 [00:35<00:00,  2.74it/s]\n"
          ]
        },
        {
          "output_type": "stream",
          "name": "stdout",
          "text": [
            "\n",
            "Test set:  Accuracy: 9126/10000 (91.26%)\n",
            "\n",
            "EPOCH: 17\n",
            "lr=  0.0005918557165991902\n"
          ]
        },
        {
          "output_type": "stream",
          "name": "stderr",
          "text": [
            "Loss=0.17052705585956573 Batch_id=97 Accuracy=93.30: 100%|██████████| 98/98 [00:34<00:00,  2.83it/s]\n"
          ]
        },
        {
          "output_type": "stream",
          "name": "stdout",
          "text": [
            "\n",
            "Test set:  Accuracy: 9112/10000 (91.12%)\n",
            "\n",
            "EPOCH: 18\n",
            "lr=  0.00050732975708502\n"
          ]
        },
        {
          "output_type": "stream",
          "name": "stderr",
          "text": [
            "Loss=0.21183858811855316 Batch_id=97 Accuracy=93.99: 100%|██████████| 98/98 [00:34<00:00,  2.86it/s]\n"
          ]
        },
        {
          "output_type": "stream",
          "name": "stdout",
          "text": [
            "\n",
            "Test set:  Accuracy: 9086/10000 (90.86%)\n",
            "\n",
            "EPOCH: 19\n",
            "lr=  0.0004228037975708501\n"
          ]
        },
        {
          "output_type": "stream",
          "name": "stderr",
          "text": [
            "Loss=0.1778084933757782 Batch_id=97 Accuracy=94.41: 100%|██████████| 98/98 [00:35<00:00,  2.79it/s]\n"
          ]
        },
        {
          "output_type": "stream",
          "name": "stdout",
          "text": [
            "\n",
            "Test set:  Accuracy: 9169/10000 (91.69%)\n",
            "\n",
            "EPOCH: 20\n",
            "lr=  0.00033827783805668015\n"
          ]
        },
        {
          "output_type": "stream",
          "name": "stderr",
          "text": [
            "Loss=0.18209674954414368 Batch_id=97 Accuracy=95.05: 100%|██████████| 98/98 [00:34<00:00,  2.80it/s]\n"
          ]
        },
        {
          "output_type": "stream",
          "name": "stdout",
          "text": [
            "\n",
            "Test set:  Accuracy: 9100/10000 (91.00%)\n",
            "\n",
            "EPOCH: 21\n",
            "lr=  0.0002537518785425102\n"
          ]
        },
        {
          "output_type": "stream",
          "name": "stderr",
          "text": [
            "Loss=0.13834111392498016 Batch_id=97 Accuracy=95.69: 100%|██████████| 98/98 [00:34<00:00,  2.82it/s]\n"
          ]
        },
        {
          "output_type": "stream",
          "name": "stdout",
          "text": [
            "\n",
            "Test set:  Accuracy: 9250/10000 (92.50%)\n",
            "\n",
            "EPOCH: 22\n",
            "lr=  0.00016922591902834004\n"
          ]
        },
        {
          "output_type": "stream",
          "name": "stderr",
          "text": [
            "Loss=0.12079329788684845 Batch_id=97 Accuracy=96.03: 100%|██████████| 98/98 [00:34<00:00,  2.85it/s]\n"
          ]
        },
        {
          "output_type": "stream",
          "name": "stdout",
          "text": [
            "\n",
            "Test set:  Accuracy: 9250/10000 (92.50%)\n",
            "\n",
            "EPOCH: 23\n",
            "lr=  8.469995951417009e-05\n"
          ]
        },
        {
          "output_type": "stream",
          "name": "stderr",
          "text": [
            "Loss=0.12226494401693344 Batch_id=97 Accuracy=96.45: 100%|██████████| 98/98 [00:34<00:00,  2.81it/s]\n"
          ]
        },
        {
          "output_type": "stream",
          "name": "stdout",
          "text": [
            "\n",
            "Test set:  Accuracy: 9264/10000 (92.64%)\n",
            "\n"
          ]
        }
      ]
    }
  ]
}